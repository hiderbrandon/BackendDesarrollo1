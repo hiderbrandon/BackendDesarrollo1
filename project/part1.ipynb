{
  "nbformat": 4,
  "nbformat_minor": 0,
  "metadata": {
    "colab": {
      "provenance": [],
      "toc_visible": true,
      "authorship_tag": "ABX9TyPZyI3l7UNJHyaocD/OXEDo",
      "include_colab_link": true
    },
    "kernelspec": {
      "name": "python3",
      "display_name": "Python 3"
    },
    "language_info": {
      "name": "python"
    }
  },
  "cells": [
    {
      "cell_type": "markdown",
      "metadata": {
        "id": "view-in-github",
        "colab_type": "text"
      },
      "source": [
        "<a href=\"https://colab.research.google.com/github/hiderbrandon/BackendDesarrollo1/blob/master/project/part1.ipynb\" target=\"_parent\"><img src=\"https://colab.research.google.com/assets/colab-badge.svg\" alt=\"Open In Colab\"/></a>"
      ]
    },
    {
      "cell_type": "markdown",
      "source": [
        "#SIMULACION Y COMPUTACION NUMERICA\n",
        "Hider Brandon Vargas Cordoba 1740421"
      ],
      "metadata": {
        "id": "y8NMWggReOx-"
      }
    },
    {
      "cell_type": "markdown",
      "source": [
        "###Needed Packages\n"
      ],
      "metadata": {
        "id": "1RLnNPfCd0Om"
      }
    },
    {
      "cell_type": "code",
      "execution_count": 1,
      "metadata": {
        "id": "vFReMQkVdOdE"
      },
      "outputs": [],
      "source": [
        "# First, import PyTorch\n",
        "import torch"
      ]
    },
    {
      "cell_type": "markdown",
      "source": [
        "##First submit"
      ],
      "metadata": {
        "id": "-H794HAPnI_h"
      }
    },
    {
      "cell_type": "markdown",
      "source": [
        "###**Activation** Function"
      ],
      "metadata": {
        "id": "5yho9aKWm8tg"
      }
    },
    {
      "cell_type": "code",
      "source": [
        "def activation(x):\n",
        "    \"\"\" Sigmoid activation function\n",
        "\n",
        "        Arguments\n",
        "        ---------\n",
        "        x: torch.Tensor\n",
        "    \"\"\"\n",
        "\n",
        "    return 1/(1+torch.exp(-x))"
      ],
      "metadata": {
        "id": "InQohW3-mu4i"
      },
      "execution_count": 4,
      "outputs": []
    },
    {
      "cell_type": "markdown",
      "source": [
        "###One Neuron Exercise"
      ],
      "metadata": {
        "id": "TpUFZ88nC1eo"
      }
    },
    {
      "cell_type": "markdown",
      "source": [
        "####**Exercise**:\n",
        "Calculate the output of the network with input features features, weights weights, and bias bias. Similar to Numpy, PyTorch has a torch.sum() function, as well as a .sum() method on tensors, for taking sums. Use the function activation defined above as the activation function.\n",
        "\n",
        "Calculate the output of this network using the weights and bias tensors\n"
      ],
      "metadata": {
        "id": "Xr8M7z3IniY7"
      }
    },
    {
      "cell_type": "code",
      "source": [
        "### Generate some data\n",
        "torch.manual_seed(7) # Set the random seed so things are predictable\n",
        "\n",
        "# Features are 3 random normal variables\n",
        "features = torch.randn((1, 5))\n",
        "# True weights for our data, random normal variables again\n",
        "weights = torch.randn_like(features)\n",
        "# and a true bias term\n",
        "bias = torch.randn((1, 1))"
      ],
      "metadata": {
        "id": "9Djkk02Bm5M3"
      },
      "execution_count": 2,
      "outputs": []
    },
    {
      "cell_type": "code",
      "source": [
        "h= torch.sum(features*weights)+ bias\n",
        "activation(h)"
      ],
      "metadata": {
        "colab": {
          "base_uri": "https://localhost:8080/"
        },
        "id": "fKMsuSwpnnf6",
        "outputId": "1f0391fa-fb8c-47fb-f0aa-743fb5e50b63"
      },
      "execution_count": 7,
      "outputs": [
        {
          "output_type": "execute_result",
          "data": {
            "text/plain": [
              "tensor([[0.1595]])"
            ]
          },
          "metadata": {},
          "execution_count": 7
        }
      ]
    },
    {
      "cell_type": "markdown",
      "source": [
        "####**Exercise:**\n",
        "Calculate the output of our little network using matrix multiplication.\n",
        "\n"
      ],
      "metadata": {
        "id": "FOcjFA1f4H2V"
      }
    },
    {
      "cell_type": "code",
      "source": [
        "h1= torch.mm(features, torch.transpose(weights , 0 ,1))+ bias\n",
        "activation(h1)"
      ],
      "metadata": {
        "colab": {
          "base_uri": "https://localhost:8080/"
        },
        "id": "xtusSo7w20Oz",
        "outputId": "7eca7e49-2bd8-4b9b-8a46-468752d57295"
      },
      "execution_count": 15,
      "outputs": [
        {
          "output_type": "execute_result",
          "data": {
            "text/plain": [
              "tensor([[0.1595]])"
            ]
          },
          "metadata": {},
          "execution_count": 15
        }
      ]
    },
    {
      "cell_type": "markdown",
      "source": [
        "###Simple Multilayer Network"
      ],
      "metadata": {
        "id": "t5ZbDBal8DWx"
      }
    },
    {
      "cell_type": "code",
      "source": [
        "### Generate some data\n",
        "torch.manual_seed(7) # Set the random seed so things are predictable\n",
        "\n",
        "# Features are 3 random normal variables\n",
        "features = torch.randn((1, 3))\n",
        "\n",
        "# Define the size of each layer in our network\n",
        "n_input = features.shape[1]     # Number of input units, must match number of input features\n",
        "n_hidden = 2                    # Number of hidden units\n",
        "n_output = 1                    # Number of output units\n",
        "\n",
        "# Weights for inputs to hidden layer\n",
        "W1 = torch.randn(n_input, n_hidden)\n",
        "# Weights for hidden layer to output layer\n",
        "W2 = torch.randn(n_hidden, n_output)\n",
        "\n",
        "# and bias terms for hidden and output layers\n",
        "B1 = torch.randn((1, n_hidden))\n",
        "B2 = torch.randn((1, n_output))"
      ],
      "metadata": {
        "id": "ve8AJTzK8BdH"
      },
      "execution_count": 16,
      "outputs": []
    },
    {
      "cell_type": "markdown",
      "source": [
        "####**Exercise:**\n",
        "Calculate the output for this multi-layer network using the weights W1 & W2, and the biases, B1 & B2.\n",
        "\n"
      ],
      "metadata": {
        "id": "8ifCWVO_9C1U"
      }
    },
    {
      "cell_type": "code",
      "source": [
        "layer2 = activation(torch.mm(features , W1)+ B1)\n",
        "layer3 =  activation(torch.mm(layer2, W2) + B2)\n",
        "\n",
        "print(layer3)"
      ],
      "metadata": {
        "colab": {
          "base_uri": "https://localhost:8080/"
        },
        "id": "XL2Syy8e9LBE",
        "outputId": "62bf8132-d08c-4044-9445-2b22f9d54da5"
      },
      "execution_count": 22,
      "outputs": [
        {
          "output_type": "stream",
          "name": "stdout",
          "text": [
            "tensor([[0.3171]])\n"
          ]
        }
      ]
    }
  ]
}